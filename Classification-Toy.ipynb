{
 "cells": [
  {
   "cell_type": "markdown",
   "metadata": {},
   "source": [
    "# Classification Problem"
   ]
  },
  {
   "cell_type": "markdown",
   "metadata": {},
   "source": [
    "### Module imports and constants"
   ]
  },
  {
   "cell_type": "code",
   "execution_count": 1,
   "metadata": {},
   "outputs": [],
   "source": [
    "from src.RBF import RBFNet\n",
    "from src.ES import ES\n",
    "import random\n",
    "import numpy as np\n",
    "import matplotlib.pyplot as plt\n",
    "from sklearn import preprocessing\n",
    "from sklearn import datasets\n",
    "\n",
    "MARKERS = ['s', 'o', 'd', 'X', 'P', '8']\n",
    "COLORS = ['r', 'g', 'b', 'c', 'm', 'y']"
   ]
  },
  {
   "cell_type": "markdown",
   "metadata": {},
   "source": [
    "## First Example: Basic"
   ]
  },
  {
   "cell_type": "markdown",
   "metadata": {},
   "source": [
    "### Initialization and plot"
   ]
  },
  {
   "cell_type": "code",
   "execution_count": 2,
   "metadata": {},
   "outputs": [
    {
     "data": {
      "image/png": "[encoded data removed]",
      "text/plain": [
       "<Figure size 432x288 with 1 Axes>"
      ]
     },
     "metadata": {
      "needs_background": "light"
     },
     "output_type": "display_data"
    }
   ],
   "source": [
    "points = np.loadtxt('data1.txt', delimiter=',')\n",
    "n = points.shape[1] - 1 #features\n",
    "m = points.shape[0] # rows\n",
    "X = points[:, :n]\n",
    "y = points[:, n:]\n",
    "for i in range(m): \n",
    "    a = X[i][0]\n",
    "    b = X[i][1]\n",
    "    cls = int(y[i][0])\n",
    "    plt.scatter(a, b, marker=MARKERS[cls], color=COLORS[cls])\n",
    "plt.show()"
   ]
  },
  {
   "cell_type": "markdown",
   "metadata": {},
   "source": [
    "### ES initialization and training"
   ]
  },
  {
   "cell_type": "code",
   "execution_count": 3,
   "metadata": {},
   "outputs": [
    {
     "name": "stdout",
     "output_type": "stream",
     "text": [
      "start training\n",
      "gen\tnevals\tavg    \tstd    \tmin    \tmax    \n",
      "0  \t100   \t83.2761\t8.04083\t54.0589\t87.8138\n",
      "1  \t150   \t71.4219\t9.89525\t49.9717\t87.6928\n",
      "2  \t150   \t63.4644\t12.551 \t29.1514\t87.5029\n",
      "3  \t150   \t52.8834\t13.0624\t20.7561\t87.4592\n",
      "4  \t150   \t43.7065\t13.4951\t16.5884\t70.8133\n",
      "5  \t150   \t31.9565\t12.5038\t4.03141\t70.8033\n",
      "6  \t150   \t18.0086\t9.12427\t3.94425\t37.4943\n",
      "7  \t150   \t11.4302\t8.79663\t3.90067\t37.5372\n",
      "8  \t150   \t7.36758\t5.77599\t3.89099\t24.8148\n",
      "9  \t150   \t5.67335\t3.4643 \t3.85795\t20.7241\n",
      "10 \t150   \t4.98659\t2.74471\t3.85381\t20.6652\n",
      "11 \t150   \t4.20581\t1.3679 \t3.84901\t12.3504\n",
      "12 \t150   \t4.15718\t1.54751\t3.85057\t16.4606\n",
      "13 \t150   \t4.05644\t1.01754\t3.85046\t12.3   \n",
      "14 \t150   \t3.88441\t0.0262762\t3.84611\t3.96625\n",
      "15 \t150   \t4.00855\t0.932742 \t3.84674\t12.2887\n",
      "16 \t150   \t3.91141\t0.424144 \t3.84671\t8.12528\n",
      "17 \t150   \t3.86372\t0.0144089\t3.845  \t3.90869\n",
      "18 \t150   \t3.90071\t0.42513  \t3.84508\t8.12867\n",
      "19 \t150   \t3.85197\t0.00684902\t3.84537\t3.89198\n",
      "20 \t150   \t3.84907\t0.0035498 \t3.84464\t3.86953\n",
      "21 \t150   \t3.84728\t0.00111031\t3.84523\t3.85115\n",
      "22 \t150   \t3.84673\t0.000815442\t3.84433\t3.85062\n",
      "23 \t150   \t3.84609\t0.000710742\t3.84433\t3.84752\n",
      "24 \t150   \t3.84572\t0.000613652\t3.84436\t3.84722\n",
      "25 \t150   \t3.84541\t0.000410252\t3.84439\t3.84621\n",
      "26 \t150   \t3.84515\t0.000346973\t3.84432\t3.8461 \n",
      "27 \t150   \t3.8449 \t0.000277858\t3.84425\t3.84562\n",
      "28 \t150   \t3.84472\t0.000189697\t3.84428\t3.84517\n",
      "29 \t150   \t3.84457\t0.000164562\t3.84406\t3.84503\n",
      "30 \t150   \t3.84447\t0.000137273\t3.84413\t3.84482\n",
      "31 \t150   \t3.84439\t9.33448e-05\t3.84423\t3.84461\n",
      "32 \t150   \t3.84431\t9.69432e-05\t3.84403\t3.84455\n",
      "33 \t150   \t3.84424\t7.682e-05  \t3.84407\t3.84441\n",
      "34 \t150   \t3.84417\t7.27084e-05\t3.84402\t3.84434\n",
      "35 \t150   \t3.84414\t5.06371e-05\t3.84398\t3.84426\n",
      "36 \t150   \t3.84411\t4.46894e-05\t3.84401\t3.84424\n",
      "37 \t150   \t3.84408\t3.54838e-05\t3.84399\t3.84415\n",
      "38 \t150   \t3.84406\t3.3614e-05 \t3.84399\t3.84414\n",
      "39 \t150   \t3.84404\t2.53544e-05\t3.84398\t3.8441 \n",
      "40 \t150   \t3.84403\t1.95706e-05\t3.84397\t3.84408\n",
      "best individual's error: [[3.84397394]]\n"
     ]
    }
   ],
   "source": [
    "es = ES(X=X, y=y, MU=100, LAMBDA=150, ngen=40, circles=6, problem='classification')\n",
    "my_rbf = es.train()"
   ]
  },
  {
   "cell_type": "markdown",
   "metadata": {},
   "source": [
    "### Plotting result"
   ]
  },
  {
   "cell_type": "code",
   "execution_count": 4,
   "metadata": {},
   "outputs": [
    {
     "data": {
      "image/png": "[encoded data removed]",
      "text/plain": [
       "<Figure size 432x288 with 1 Axes>"
      ]
     },
     "metadata": {
      "needs_background": "light"
     },
     "output_type": "display_data"
    }
   ],
   "source": [
    "x_min, x_max = X[:, 0].min() - 1, X[:, 0].max() + 1\n",
    "y_min, y_max = X[:, 1].min() - 1, X[:, 1].max() + 1\n",
    "plt.xlim(x_min, x_max)\n",
    "plt.ylim(y_min, y_max)\n",
    "x_range = np.arange(x_min, x_max, 0.1)\n",
    "y_range = np.arange(y_min, y_max, 0.1)\n",
    "xx, yy = np.meshgrid(x_range, y_range)\n",
    "cmap = plt.get_cmap('Paired')\n",
    "zz = np.zeros(xx.shape)\n",
    "\n",
    "for i in range(zz.shape[0]):\n",
    "    for j in range(zz.shape[1]):\n",
    "        x_vector = np.array([xx[i][j], yy[i][j]])\n",
    "        network_answer = my_rbf.apply_network(x_vector)\n",
    "        cls = np.argmax(network_answer)\n",
    "        zz[i][j] = int(cls)\n",
    "\n",
    "plt.pcolormesh(xx, yy, zz, cmap=cmap)\n",
    "\n",
    "for i in range(m): \n",
    "    a = X[i][0]\n",
    "    b = X[i][1]\n",
    "    cls = int(y[i][0])\n",
    "    plt.scatter(a, b, marker=MARKERS[cls], color=COLORS[cls])\n",
    "plt.show()"
   ]
  },
  {
   "cell_type": "markdown",
   "metadata": {},
   "source": [
    "## Second Example"
   ]
  },
  {
   "cell_type": "markdown",
   "metadata": {},
   "source": [
    "### Initialization and plot"
   ]
  },
  {
   "cell_type": "code",
   "execution_count": 18,
   "metadata": {},
   "outputs": [
    {
     "data": {
      "image/png": "[encoded data removed]",
      "text/plain": [
       "<Figure size 432x288 with 1 Axes>"
      ]
     },
     "metadata": {
      "needs_background": "light"
     },
     "output_type": "display_data"
    }
   ],
   "source": [
    "points = np.loadtxt('data2.txt', delimiter=',')\n",
    "np.random.shuffle(points)\n",
    "n = points.shape[1] - 1 #features\n",
    "m = points.shape[0] # rows\n",
    "X = points[:, :n]\n",
    "X = preprocessing.scale(X)\n",
    "y = points[:, n:]\n",
    "\n",
    "for i in range(m): \n",
    "    a = X[i][0]\n",
    "    b = X[i][1]\n",
    "    cls = int(y[i][0])\n",
    "    plt.scatter(a, b, marker=MARKERS[cls], color=COLORS[cls])\n",
    "plt.show()"
   ]
  },
  {
   "cell_type": "markdown",
   "metadata": {},
   "source": [
    "### ES initialization and training"
   ]
  },
  {
   "cell_type": "code",
   "execution_count": 19,
   "metadata": {},
   "outputs": [
    {
     "name": "stdout",
     "output_type": "stream",
     "text": [
      "start training\n"
     ]
    },
    {
     "name": "stderr",
     "output_type": "stream",
     "text": [
      "c:\\users\\mohammad\\appdata\\local\\programs\\python\\python36-32\\lib\\site-packages\\deap\\creator.py:141: RuntimeWarning: A class named 'FitnessMin' has already been created and it will be overwritten. Consider deleting previous creation of that class or rename it.\n",
      "  RuntimeWarning)\n",
      "c:\\users\\mohammad\\appdata\\local\\programs\\python\\python36-32\\lib\\site-packages\\deap\\creator.py:141: RuntimeWarning: A class named 'Individual' has already been created and it will be overwritten. Consider deleting previous creation of that class or rename it.\n",
      "  RuntimeWarning)\n",
      "c:\\users\\mohammad\\appdata\\local\\programs\\python\\python36-32\\lib\\site-packages\\deap\\creator.py:141: RuntimeWarning: A class named 'Strategy' has already been created and it will be overwritten. Consider deleting previous creation of that class or rename it.\n",
      "  RuntimeWarning)\n"
     ]
    },
    {
     "name": "stdout",
     "output_type": "stream",
     "text": [
      "gen\tnevals\tavg    \tstd     \tmin  \tmax    \n",
      "0  \t100   \t50.4487\t0.951895\t42.95\t53.9592\n",
      "1  \t150   \t49.9393\t2.20523 \t38.6759\t50.6006\n",
      "2  \t150   \t49.3703\t3.36141 \t33.5784\t50.5982\n",
      "3  \t150   \t48.5091\t4.20638 \t31.0061\t50.5901\n",
      "4  \t150   \t46.3889\t6.32654 \t25.0365\t55.6699\n",
      "5  \t150   \t41.9386\t7.0712  \t24.1802\t52.2945\n",
      "6  \t150   \t38.0701\t8.46157 \t19.1161\t53.1208\n",
      "7  \t150   \t36.16  \t9.38159 \t17.3639\t55.6668\n",
      "8  \t150   \t29.5604\t8.42632 \t16.4908\t50.589 \n",
      "9  \t150   \t26.4719\t8.47311 \t16.4908\t47.1843\n",
      "10 \t150   \t22.376 \t5.59137 \t14.7964\t39.5486\n",
      "11 \t150   \t20.095 \t4.24296 \t14.7901\t35.2814\n",
      "12 \t150   \t19.1751\t4.60487 \t13.9647\t36.1463\n",
      "13 \t150   \t17.3738\t3.3281  \t14.7857\t32.7242\n",
      "14 \t150   \t16.3257\t1.37946 \t14.7905\t21.5986\n",
      "15 \t150   \t15.8999\t1.07027 \t13.9557\t19.9004\n",
      "16 \t150   \t15.7124\t0.918315\t13.9592\t20.7573\n",
      "17 \t150   \t15.6266\t0.873458\t13.9565\t20.7557\n",
      "18 \t150   \t15.5929\t0.707287\t13.9536\t18.2021\n",
      "19 \t150   \t15.7288\t0.798064\t13.9527\t19.0473\n",
      "20 \t150   \t15.4669\t0.612944\t13.9525\t17.3462\n",
      "21 \t150   \t15.2724\t0.564155\t13.954 \t16.489 \n",
      "22 \t150   \t15.0866\t0.612203\t13.9509\t16.4915\n",
      "23 \t150   \t15.0022\t0.508753\t13.9513\t15.6469\n",
      "24 \t150   \t14.8416\t0.324579\t13.9514\t15.6454\n",
      "25 \t150   \t14.7314\t0.285302\t13.9511\t15.6444\n",
      "26 \t150   \t14.7057\t0.264719\t13.9519\t14.8007\n",
      "27 \t150   \t14.7564\t0.184567\t13.9515\t14.8008\n",
      "28 \t150   \t14.7392\t0.216014\t13.9514\t14.7996\n",
      "29 \t150   \t14.7813\t0.118559\t13.9514\t14.7991\n",
      "30 \t150   \t14.7895\t0.084219\t13.9516\t14.799 \n",
      "31 \t150   \t14.7894\t0.0842005\t13.9516\t14.7985\n",
      "32 \t150   \t14.7978\t0.000231529\t14.797 \t14.7983\n",
      "33 \t150   \t14.7976\t0.00019543 \t14.7972\t14.7982\n",
      "34 \t150   \t14.7975\t0.000126449\t14.7971\t14.7978\n",
      "35 \t150   \t14.7974\t7.20334e-05\t14.7972\t14.7976\n",
      "36 \t150   \t14.7974\t6.19154e-05\t14.7972\t14.7975\n",
      "37 \t150   \t14.7973\t5.09803e-05\t14.7972\t14.7975\n",
      "38 \t150   \t14.7973\t3.49259e-05\t14.7972\t14.7974\n",
      "39 \t150   \t14.7973\t3.31891e-05\t14.7972\t14.7974\n",
      "40 \t150   \t14.7973\t2.80364e-05\t14.7972\t14.7973\n",
      "best individual's error: [[13.95093384]]\n"
     ]
    }
   ],
   "source": [
    "es = ES(X=X, y=y, MU=100, LAMBDA=150, ngen=40, circles=6, problem='classification')\n",
    "my_rbf = es.train()"
   ]
  },
  {
   "cell_type": "markdown",
   "metadata": {},
   "source": [
    "### Plotting result"
   ]
  },
  {
   "cell_type": "code",
   "execution_count": 20,
   "metadata": {},
   "outputs": [
    {
     "data": {
      "image/png": "[encoded data removed]",
      "text/plain": [
       "<Figure size 432x288 with 1 Axes>"
      ]
     },
     "metadata": {
      "needs_background": "light"
     },
     "output_type": "display_data"
    }
   ],
   "source": [
    "x_min, x_max = X[:, 0].min() - 0.05, X[:, 0].max() + 0.05\n",
    "y_min, y_max = X[:, 1].min() - 0.05, X[:, 1].max() + 0.05\n",
    "plt.xlim(x_min, x_max)\n",
    "plt.ylim(y_min, y_max)\n",
    "x_range = np.arange(x_min, x_max, 0.05)\n",
    "y_range = np.arange(y_min, y_max, 0.05)\n",
    "xx, yy = np.meshgrid(x_range, y_range)\n",
    "cmap = plt.get_cmap('PiYG')\n",
    "zz = np.zeros(xx.shape)\n",
    "\n",
    "for i in range(zz.shape[0]):\n",
    "    for j in range(zz.shape[1]):\n",
    "        x_vector = np.array([xx[i][j], yy[i][j]])\n",
    "        network_answer = my_rbf.apply_network(x_vector)\n",
    "        cls = np.argmax(network_answer)\n",
    "        zz[i][j] = int(cls)\n",
    "\n",
    "plt.pcolormesh(xx, yy, zz, cmap=cmap)\n",
    "\n",
    "for i in range(m): \n",
    "    a = X[i][0]\n",
    "    b = X[i][1]\n",
    "    cls = int(y[i][0])\n",
    "    plt.scatter(a, b, marker=MARKERS[cls], color=COLORS[cls])\n",
    "plt.show()"
   ]
  },
  {
   "cell_type": "markdown",
   "metadata": {},
   "source": [
    "### Training accuracy"
   ]
  },
  {
   "cell_type": "code",
   "execution_count": 21,
   "metadata": {},
   "outputs": [
    {
     "name": "stdout",
     "output_type": "stream",
     "text": [
      "Training Accuracy: %87.28813559322033\n"
     ]
    }
   ],
   "source": [
    "dataset_size = X.shape[0]\n",
    "correct = 0\n",
    "for i in range(dataset_size): \n",
    "    actual_class = int(y[i][0])\n",
    "    predicted_class = int(np.argmax(my_rbf.apply_network(X[i])))\n",
    "    if actual_class == predicted_class:\n",
    "        correct += 1\n",
    "print('Training Accuracy: %{0}'.format(100 * correct / dataset_size))"
   ]
  },
  {
   "cell_type": "markdown",
   "metadata": {},
   "source": [
    "## Third Example: The Spiral Dataset"
   ]
  },
  {
   "cell_type": "markdown",
   "metadata": {},
   "source": [
    "### Initialization and plot"
   ]
  },
  {
   "cell_type": "code",
   "execution_count": 33,
   "metadata": {},
   "outputs": [
    {
     "data": {
      "image/png": "[encoded data removed]",
      "text/plain": [
       "<Figure size 432x288 with 1 Axes>"
      ]
     },
     "metadata": {
      "needs_background": "light"
     },
     "output_type": "display_data"
    }
   ],
   "source": [
    "N = 100 # number of points per class\n",
    "D = 2 # dimensionality\n",
    "K = 3 # number of classes\n",
    "X = np.zeros((N*K,D)) # data matrix (each row = single example)\n",
    "y = np.zeros(N*K, dtype='uint8') # class labels\n",
    "for j in range(K):\n",
    "  ix = range(N*j,N*(j+1))\n",
    "  r = np.linspace(0.0,1,N) # radius\n",
    "  t = np.linspace(j*4,(j+1)*4,N) + np.random.randn(N)*0.2 # theta\n",
    "  X[ix] = np.c_[r*np.sin(t), r*np.cos(t)]\n",
    "  y[ix] = j\n",
    "# Plot the data\n",
    "y = y.reshape(y.shape[0], 1)\n",
    "\n",
    "for i in range(X.shape[0]):\n",
    "    a = X[i][0]\n",
    "    b = X[i][1]\n",
    "    cls = int(y[i][0])\n",
    "    plt.scatter(a, b, marker=MARKERS[cls], color=COLORS[cls])\n",
    "    \n",
    "plt.show()"
   ]
  },
  {
   "cell_type": "markdown",
   "metadata": {},
   "source": [
    "### ES Initialization and training"
   ]
  },
  {
   "cell_type": "code",
   "execution_count": 26,
   "metadata": {},
   "outputs": [
    {
     "name": "stdout",
     "output_type": "stream",
     "text": [
      "start training\n",
      "gen\tnevals\tavg    \tstd    \tmin    \tmax    \n",
      "0  \t100   \t63.1788\t7.42253\t44.5187\t69.8836\n",
      "1  \t150   \t56.5127\t8.25541\t39.4448\t68.9315\n",
      "2  \t150   \t52.2396\t8.0478 \t37.1146\t68.9463\n",
      "3  \t150   \t47.8901\t5.331  \t36.7773\t59.1913\n",
      "4  \t150   \t45.1971\t4.24796\t35.4351\t58.8767\n",
      "5  \t150   \t42.9389\t5.86597\t25.6449\t50.1329\n",
      "6  \t150   \t42.9969\t4.48379\t29.0477\t49.4377\n",
      "7  \t150   \t41.7865\t5.83083\t25.3028\t49.1157\n",
      "8  \t150   \t40.9838\t5.64675\t22.2983\t47.4292\n",
      "9  \t150   \t35.3837\t7.86951\t20.9847\t48.0875\n",
      "10 \t150   \t30.0674\t7.07267\t14.5709\t45.7323\n",
      "11 \t150   \t26.8732\t6.50678\t14.5615\t43.055 \n",
      "12 \t150   \t24.6341\t5.2233 \t13.2343\t45.0783\n",
      "13 \t150   \t23.8173\t4.6304 \t14.2509\t40.7236\n",
      "14 \t150   \t22.2222\t3.83673\t15.2542\t38.3923\n",
      "15 \t150   \t22.0354\t3.3755 \t14.2511\t32.0048\n",
      "16 \t150   \t20.7462\t2.7834 \t14.5815\t24.9953\n",
      "17 \t150   \t21.2614\t2.55541\t14.5868\t25.3115\n",
      "18 \t150   \t21.1278\t2.35591\t14.9347\t24.9783\n",
      "19 \t150   \t20.713 \t2.31421\t14.9299\t24.6459\n",
      "20 \t150   \t19.5743\t2.05884\t14.2587\t23.6469\n",
      "21 \t150   \t19.4815\t1.97651\t13.9223\t23.9731\n",
      "22 \t150   \t19.1794\t1.3978 \t15.9463\t22.6289\n",
      "23 \t150   \t18.5863\t1.28398\t15.255 \t21.2762\n",
      "24 \t150   \t18.1233\t1.56228\t13.9081\t22.6245\n",
      "25 \t150   \t18.1129\t1.39782\t13.2393\t21.2858\n",
      "26 \t150   \t17.8984\t1.49588\t13.5738\t20.6057\n",
      "27 \t150   \t17.6603\t1.31531\t14.9157\t20.2796\n",
      "28 \t150   \t17.5431\t0.988468\t15.2498\t20.3079\n",
      "29 \t150   \t17.2348\t0.671375\t15.5926\t18.6007\n",
      "30 \t150   \t16.997 \t0.635997\t14.9142\t18.2654\n",
      "31 \t150   \t16.7895\t0.396334\t14.9187\t17.9297\n",
      "32 \t150   \t16.749 \t0.209091\t15.9209\t17.2583\n",
      "33 \t150   \t16.6782\t0.204493\t15.9195\t16.9285\n",
      "34 \t150   \t16.6045\t0.115122\t16.2553\t16.9271\n",
      "35 \t150   \t16.5839\t0.0816096\t16.2546\t16.9256\n",
      "36 \t150   \t16.5868\t0.0578581\t16.2549\t16.9233\n",
      "37 \t150   \t16.5798\t0.0570661\t16.2553\t16.5915\n",
      "38 \t150   \t16.5759\t0.065559 \t16.2543\t16.5914\n",
      "39 \t150   \t16.5689\t0.0792908\t16.2542\t16.59  \n",
      "40 \t150   \t16.5518\t0.123948 \t15.9208\t16.5895\n",
      "best individual's error: [[13.23426832]]\n"
     ]
    }
   ],
   "source": [
    "es = ES(X=X, y=y, MU=100, LAMBDA=150, ngen=40, circles=8, problem='classification')\n",
    "my_rbf = es.train()"
   ]
  },
  {
   "cell_type": "markdown",
   "metadata": {},
   "source": [
    "### Plotting result"
   ]
  },
  {
   "cell_type": "code",
   "execution_count": 37,
   "metadata": {},
   "outputs": [
    {
     "data": {
      "image/png": "[encoded data removed]",
      "text/plain": [
       "<Figure size 432x288 with 1 Axes>"
      ]
     },
     "metadata": {
      "needs_background": "light"
     },
     "output_type": "display_data"
    }
   ],
   "source": [
    "x_min, x_max = X[:, 0].min() - 0.05, X[:, 0].max() + 0.05\n",
    "y_min, y_max = X[:, 1].min() - 0.05, X[:, 1].max() + 0.05\n",
    "plt.xlim(x_min, x_max)\n",
    "plt.ylim(y_min, y_max)\n",
    "x_range = np.arange(x_min, x_max, 0.05)\n",
    "y_range = np.arange(y_min, y_max, 0.05)\n",
    "xx, yy = np.meshgrid(x_range, y_range)\n",
    "cmap = plt.get_cmap('Paired')\n",
    "zz = np.zeros(xx.shape)\n",
    "\n",
    "for i in range(zz.shape[0]):\n",
    "    for j in range(zz.shape[1]):\n",
    "        x_vector = np.array([xx[i][j], yy[i][j]])\n",
    "        network_answer = my_rbf.apply_network(x_vector)\n",
    "        cls = np.argmax(network_answer)\n",
    "        zz[i][j] = int(cls)\n",
    "\n",
    "plt.pcolormesh(xx, yy, zz, cmap=cmap)\n",
    "\n",
    "for i in range(X.shape[0]):\n",
    "    a = X[i][0]\n",
    "    b = X[i][1]\n",
    "    cls = int(y[i][0])\n",
    "    plt.scatter(a, b, marker=MARKERS[cls], color=COLORS[cls])\n",
    "    \n",
    "plt.show()"
   ]
  },
  {
   "cell_type": "markdown",
   "metadata": {},
   "source": [
    "### Training accuracy"
   ]
  },
  {
   "cell_type": "code",
   "execution_count": 38,
   "metadata": {},
   "outputs": [
    {
     "name": "stdout",
     "output_type": "stream",
     "text": [
      "Training Accuracy: %88.33333333333333\n"
     ]
    }
   ],
   "source": [
    "dataset_size = X.shape[0]\n",
    "correct = 0\n",
    "for i in range(dataset_size): \n",
    "    actual_class = int(y[i][0])\n",
    "    predicted_class = int(np.argmax(my_rbf.apply_network(X[i])))\n",
    "    if actual_class == predicted_class:\n",
    "        correct += 1\n",
    "print('Training Accuracy: %{0}'.format(100 * correct / dataset_size))"
   ]
  },
  {
   "cell_type": "markdown",
   "metadata": {},
   "source": [
    "## Fourth Example: The Iris Dataset"
   ]
  },
  {
   "cell_type": "markdown",
   "metadata": {},
   "source": [
    "### Initialization"
   ]
  },
  {
   "cell_type": "code",
   "execution_count": 39,
   "metadata": {},
   "outputs": [],
   "source": [
    "X, y = datasets.load_iris(True)\n",
    "m, n = X.shape\n",
    "y = y.reshape(m, 1)\n",
    "X = preprocessing.scale(X)"
   ]
  },
  {
   "cell_type": "markdown",
   "metadata": {},
   "source": [
    "### ES initialization and training"
   ]
  },
  {
   "cell_type": "code",
   "execution_count": 40,
   "metadata": {
    "scrolled": false
   },
   "outputs": [
    {
     "name": "stdout",
     "output_type": "stream",
     "text": [
      "start training\n"
     ]
    },
    {
     "name": "stderr",
     "output_type": "stream",
     "text": [
      "c:\\users\\mohammad\\appdata\\local\\programs\\python\\python36-32\\lib\\site-packages\\deap\\creator.py:141: RuntimeWarning: A class named 'FitnessMin' has already been created and it will be overwritten. Consider deleting previous creation of that class or rename it.\n",
      "  RuntimeWarning)\n",
      "c:\\users\\mohammad\\appdata\\local\\programs\\python\\python36-32\\lib\\site-packages\\deap\\creator.py:141: RuntimeWarning: A class named 'Individual' has already been created and it will be overwritten. Consider deleting previous creation of that class or rename it.\n",
      "  RuntimeWarning)\n",
      "c:\\users\\mohammad\\appdata\\local\\programs\\python\\python36-32\\lib\\site-packages\\deap\\creator.py:141: RuntimeWarning: A class named 'Strategy' has already been created and it will be overwritten. Consider deleting previous creation of that class or rename it.\n",
      "  RuntimeWarning)\n",
      "c:\\users\\mohammad\\appdata\\local\\programs\\python\\python36-32\\lib\\site-packages\\numpy\\linalg\\linalg.py:1943: RuntimeWarning: overflow encountered in true_divide\n",
      "  s = divide(1, s, where=large, out=s)\n",
      "c:\\users\\mohammad\\appdata\\local\\programs\\python\\python36-32\\lib\\site-packages\\numpy\\linalg\\linalg.py:1946: RuntimeWarning: invalid value encountered in multiply\n",
      "  res = matmul(transpose(vt), multiply(s[..., newaxis], transpose(u)))\n",
      "c:\\users\\mohammad\\appdata\\local\\programs\\python\\python36-32\\lib\\site-packages\\numpy\\linalg\\linalg.py:1946: RuntimeWarning: invalid value encountered in matmul\n",
      "  res = matmul(transpose(vt), multiply(s[..., newaxis], transpose(u)))\n",
      "c:\\users\\mohammad\\appdata\\local\\programs\\python\\python36-32\\lib\\site-packages\\deap\\base.py:236: RuntimeWarning: invalid value encountered in less_equal\n",
      "  return self.wvalues <= other.wvalues\n"
     ]
    },
    {
     "name": "stdout",
     "output_type": "stream",
     "text": [
      "gen\tnevals\tavg\tstd\tmin\tmax\n",
      "0  \t100   \tnan\tnan\tnan\tnan\n",
      "1  \t150   \t65.984\t8.27327\t32.7227\t68.7868\n",
      "2  \t150   \t58.45 \t15.5861\t10.7377\t68.7701\n",
      "3  \t150   \t55.0676\t14.0407\t24.7443\t68.857 \n",
      "4  \t150   \t53.6402\t15.4387\t19.9622\t68.822 \n",
      "5  \t150   \t43.4698\t13.2618\t17.3493\t68.7954\n",
      "6  \t150   \t40.1562\t13.3005\t5.9921 \t68.7686\n",
      "7  \t150   \t35.121 \t12.4454\t10.6337\t68.7204\n",
      "8  \t150   \t26.1387\t10.8783\t6.49595\t68.6655\n",
      "9  \t150   \t21.1833\t9.53274\t7.20666\t68.6499\n",
      "10 \t150   \t17.0872\t7.20225\t5.83054\t35.3435\n",
      "11 \t150   \t14.1154\t5.35801\t5.23558\t29.365 \n",
      "12 \t150   \t12.5977\t4.38752\t5.92339\t27.9762\n",
      "13 \t150   \t12.05  \t4.56506\t5.17293\t26.6227\n",
      "14 \t150   \t10.3429\t3.66015\t5.1839 \t23.3093\n",
      "15 \t150   \t8.40545\t2.89355\t5.15935\t18.581 \n",
      "16 \t150   \t6.91196\t1.52741\t4.49059\t13.8933\n",
      "17 \t150   \t6.11596\t0.85229\t4.48891\t9.18516\n",
      "18 \t150   \t5.85169\t0.629695\t4.50073\t7.84001\n",
      "19 \t150   \t5.5167 \t0.447138\t4.49199\t6.50171\n",
      "20 \t150   \t5.32124\t0.328747\t4.49742\t6.49945\n",
      "21 \t150   \t5.16002\t0.326358\t4.48952\t6.49482\n",
      "22 \t150   \t5.08518\t0.24663 \t4.49178\t5.82328\n",
      "23 \t150   \t5.0178 \t0.27058 \t4.49042\t5.16217\n",
      "24 \t150   \t5.01701\t0.270243\t4.49065\t5.15928\n",
      "25 \t150   \t5.0296 \t0.26008 \t4.48927\t5.15985\n",
      "26 \t150   \t5.03587\t0.25479 \t4.48817\t5.15865\n",
      "27 \t150   \t5.02856\t0.260438\t4.48884\t5.15714\n",
      "28 \t150   \t5.06788\t0.223425\t4.48793\t5.15795\n",
      "29 \t150   \t5.08742\t0.199677\t4.48744\t5.15594\n",
      "30 \t150   \t5.1272 \t0.130242\t4.48915\t5.15439\n",
      "31 \t150   \t5.15363\t0.000298492\t5.15302\t5.15477\n",
      "32 \t150   \t5.15342\t0.000205232\t5.153  \t5.15391\n",
      "33 \t150   \t5.15331\t0.000226187\t5.15277\t5.1538 \n",
      "34 \t150   \t5.15323\t0.000143504\t5.15277\t5.15353\n",
      "35 \t150   \t5.1531 \t0.000138596\t5.1528 \t5.15332\n",
      "36 \t150   \t5.15301\t0.000143859\t5.15264\t5.15332\n",
      "37 \t150   \t5.15292\t0.000110016\t5.15262\t5.15317\n",
      "38 \t150   \t5.15285\t9.02506e-05\t5.15265\t5.15308\n",
      "39 \t150   \t5.1528 \t8.15973e-05\t5.15263\t5.15302\n",
      "40 \t150   \t5.15276\t5.74091e-05\t5.15262\t5.15292\n",
      "41 \t150   \t5.15272\t5.08049e-05\t5.1526 \t5.15289\n",
      "42 \t150   \t5.15269\t4.73343e-05\t5.15258\t5.15282\n",
      "43 \t150   \t5.15265\t3.55529e-05\t5.15257\t5.15273\n",
      "44 \t150   \t5.15263\t2.74382e-05\t5.15256\t5.1527 \n",
      "45 \t150   \t5.15262\t2.03747e-05\t5.15256\t5.15266\n",
      "46 \t150   \t5.15261\t1.69247e-05\t5.15257\t5.15265\n",
      "47 \t150   \t5.1526 \t1.11459e-05\t5.15258\t5.15264\n",
      "48 \t150   \t5.1526 \t9.12566e-06\t5.15257\t5.15262\n",
      "49 \t150   \t5.15259\t6.63198e-06\t5.15257\t5.15262\n",
      "50 \t150   \t5.15259\t4.12379e-06\t5.15258\t5.1526 \n",
      "best individual's error: [[4.48744141]]\n"
     ]
    }
   ],
   "source": [
    "es = ES(X=X, y=y, MU=100, LAMBDA=150, ngen=50, circles=5, problem='classification')\n",
    "my_rbf = es.train()"
   ]
  },
  {
   "cell_type": "markdown",
   "metadata": {},
   "source": [
    "### Training accuracy"
   ]
  },
  {
   "cell_type": "code",
   "execution_count": 41,
   "metadata": {},
   "outputs": [
    {
     "name": "stdout",
     "output_type": "stream",
     "text": [
      "Training Accuracy: %97.33333333333333\n"
     ]
    }
   ],
   "source": [
    "dataset_size = X.shape[0]\n",
    "correct = 0\n",
    "for i in range(dataset_size): \n",
    "    actual_class = int(y[i][0])\n",
    "    predicted_class = int(np.argmax(my_rbf.apply_network(X[i])))\n",
    "    if actual_class == predicted_class:\n",
    "        correct += 1\n",
    "print('Training Accuracy: %{0}'.format(100 * correct / dataset_size))"
   ]
  }
 ],
 "metadata": {
  "kernelspec": {
   "display_name": "Python 3",
   "language": "python",
   "name": "python3"
  },
  "language_info": {
   "codemirror_mode": {
    "name": "ipython",
    "version": 3
   },
   "file_extension": ".py",
   "mimetype": "text/x-python",
   "name": "python",
   "nbconvert_exporter": "python",
   "pygments_lexer": "ipython3",
   "version": "3.6.5"
  }
 },
 "nbformat": 4,
 "nbformat_minor": 2
}
