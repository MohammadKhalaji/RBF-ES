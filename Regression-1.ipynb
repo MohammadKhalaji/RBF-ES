{
 "cells": [
  {
   "cell_type": "code",
   "execution_count": 1,
   "metadata": {},
   "outputs": [],
   "source": [
    "from src.RBF import RBFNet\n",
    "from src.ES import ES\n",
    "import random\n",
    "import numpy as np\n",
    "import matplotlib.pyplot as plt\n",
    "from sklearn import preprocessing\n",
    "import csv\n",
    "import xlrd"
   ]
  },
  {
   "cell_type": "code",
   "execution_count": 2,
   "metadata": {},
   "outputs": [
    {
     "data": {
      "text/plain": [
       "2000"
      ]
     },
     "execution_count": 2,
     "metadata": {},
     "output_type": "execute_result"
    }
   ],
   "source": [
    "points = np.loadtxt('regdata2000.csv', delimiter=',')\n",
    "np.random.shuffle(points)\n",
    "m = points.shape[0] # rows\n",
    "n = points.shape[1] - 1 # features\n",
    "X = points[:, :n]\n",
    "y = points[:, n:]\n",
    "X, y = preprocessing.scale(X), preprocessing.scale(y)\n",
    "m"
   ]
  },
  {
   "cell_type": "code",
   "execution_count": 3,
   "metadata": {},
   "outputs": [
    {
     "name": "stdout",
     "output_type": "stream",
     "text": [
      "start training\n",
      "gen\tnevals\tavg    \tstd    \tmin    \tmax\n",
      "0  \t50    \t53.4185\t66.9245\t2.54559\t342\n",
      "1  \t100   \t27.0459\t21.3779\t1.4093 \t83.1163\n",
      "2  \t100   \t18.3858\t15.5409\t1.4093 \t83.1163\n",
      "3  \t100   \t13.4768\t9.28721\t0.668752\t38.87  \n",
      "4  \t100   \t13.166 \t13.0281\t0.898116\t86.1324\n",
      "5  \t100   \t9.84097\t6.83626\t0.898116\t40.5021\n",
      "6  \t100   \t9.35007\t9.80681\t0.898116\t61.5092\n",
      "7  \t100   \t7.85757\t10.0911\t0.898116\t61.5092\n",
      "8  \t100   \t7.1573 \t14.3828\t0.412952\t100.132\n",
      "9  \t100   \t4.59626\t6.45457\t0.401968\t32.7345\n",
      "10 \t100   \t2.84761\t6.05446\t0.401968\t42.463 \n",
      "11 \t100   \t1.1848 \t1.32976\t0.337124\t8.37253\n",
      "12 \t100   \t0.810127\t1.09658\t0.401968\t8.37253\n",
      "13 \t100   \t0.658501\t0.206659\t0.390061\t1.45255\n",
      "14 \t100   \t0.741494\t0.688014\t0.276916\t5.37777\n",
      "15 \t100   \t0.588224\t0.173244\t0.276916\t1.11593\n",
      "best individual's error: [[0.27691585]]\n"
     ]
    }
   ],
   "source": [
    "X_train = X[:1200, :]\n",
    "y_train = y[:1200, :]\n",
    "es = ES(X=X_train, y=y_train, MU=50, LAMBDA=100, ngen=15, circles=5, problem='regression')\n",
    "my_rbf = es.train()"
   ]
  },
  {
   "cell_type": "code",
   "execution_count": 6,
   "metadata": {},
   "outputs": [
    {
     "data": {
      "image/png": "[encoded data removed]",
      "text/plain": [
       "<Figure size 432x288 with 1 Axes>"
      ]
     },
     "metadata": {
      "needs_background": "light"
     },
     "output_type": "display_data"
    },
    {
     "data": {
      "image/png": "[encoded data removed]",
      "text/plain": [
       "<Figure size 432x288 with 1 Axes>"
      ]
     },
     "metadata": {
      "needs_background": "light"
     },
     "output_type": "display_data"
    }
   ],
   "source": [
    "points = np.loadtxt('regdata2000.csv', delimiter=',')\n",
    "points = preprocessing.scale(points)\n",
    "xs_plot = [_ for _ in range(1, 2001)]\n",
    "ys_plot = []\n",
    "datas = points[:, :n]\n",
    "labels = points[:, n:].ravel()\n",
    "for data in datas:\n",
    "    ys_plot.append(my_rbf.apply_network(data).item())\n",
    "plt.title('prediction')\n",
    "plt.plot(xs_plot, ys_plot, 'b')\n",
    "plt.show()\n",
    "plt.title('labels')\n",
    "plt.plot(xs_plot, labels, 'r')\n",
    "plt.show()"
   ]
  },
  {
   "cell_type": "code",
   "execution_count": null,
   "metadata": {},
   "outputs": [],
   "source": []
  }
 ],
 "metadata": {
  "kernelspec": {
   "display_name": "Python 3",
   "language": "python",
   "name": "python3"
  },
  "language_info": {
   "codemirror_mode": {
    "name": "ipython",
    "version": 3
   },
   "file_extension": ".py",
   "mimetype": "text/x-python",
   "name": "python",
   "nbconvert_exporter": "python",
   "pygments_lexer": "ipython3",
   "version": "3.6.5"
  }
 },
 "nbformat": 4,
 "nbformat_minor": 2
}
