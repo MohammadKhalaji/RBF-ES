{
 "cells": [
  {
   "cell_type": "code",
   "execution_count": 2,
   "metadata": {},
   "outputs": [],
   "source": [
    "import xlrd\n",
    "import csv\n",
    "\n",
    "def csv_from_excel(filename, csvfilename):\n",
    "    wb = xlrd.open_workbook(filename)\n",
    "    sh = wb.sheet_by_name('Sheet1')\n",
    "    your_csv_file = open(csvfilename, 'w')\n",
    "    wr = csv.writer(your_csv_file)\n",
    "\n",
    "    for rownum in range(sh.nrows):\n",
    "        wr.writerow(sh.row_values(rownum))\n",
    "\n",
    "    your_csv_file.close()\n",
    "csv_from_excel('2clstest5000.xlsx', '2clstest5000.csv')\n",
    "csv_from_excel('2clstrain1500.xlsx', '2clstrain1500.csv')\n",
    "csv_from_excel('5clstest5000.xlsx', '5clstest5000.csv')\n",
    "csv_from_excel('5clstrain1500.xlsx', '5clstrain1500.csv')\n",
    "csv_from_excel('regdata2000.xlsx', 'regdata2000.csv')\n",
    "\n"
   ]
  },
  {
   "cell_type": "code",
   "execution_count": null,
   "metadata": {},
   "outputs": [],
   "source": []
  }
 ],
 "metadata": {
  "kernelspec": {
   "display_name": "Python 3",
   "language": "python",
   "name": "python3"
  },
  "language_info": {
   "codemirror_mode": {
    "name": "ipython",
    "version": 3
   },
   "file_extension": ".py",
   "mimetype": "text/x-python",
   "name": "python",
   "nbconvert_exporter": "python",
   "pygments_lexer": "ipython3",
   "version": "3.6.5"
  }
 },
 "nbformat": 4,
 "nbformat_minor": 2
}
